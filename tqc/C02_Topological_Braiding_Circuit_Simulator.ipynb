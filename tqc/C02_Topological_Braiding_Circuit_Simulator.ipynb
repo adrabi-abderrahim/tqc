{
 "cells": [
  {
   "cell_type": "markdown",
   "id": "f6612b62",
   "metadata": {},
   "source": [
    "# Topological Braiding Circuit Simulator (Tutorial)\n",
    "## with Fibonacci anyons\n",
    "\n",
    "<hr>"
   ]
  },
  {
   "cell_type": "markdown",
   "id": "d399c3b1",
   "metadata": {},
   "source": [
    "<table width=\"100%\"><tr><td style=\"color:#bbbbbb;background-color:#ffffff;font-size:11px;font-style:italic;text-align:right;\">This cell contains some macros. If there is a problem with displaying mathematical formulas, please run this cell to load these macros. </td></tr></table>\n",
    "$ \\newcommand{\\bra}[1]{\\langle #1|} $\n",
    "$ \\newcommand{\\ket}[1]{|#1\\rangle} $\n",
    "$ \\newcommand{\\braket}[2]{\\langle #1|#2\\rangle} $\n",
    "$ \\newcommand{\\dot}[2]{ #1 \\cdot #2} $\n",
    "$ \\newcommand{\\biginner}[2]{\\left\\langle #1,#2\\right\\rangle} $\n",
    "$ \\newcommand{\\mymatrix}[2]{\\left( \\begin{array}{#1} #2\\end{array} \\right)} $\n",
    "$ \\newcommand{\\myvector}[1]{\\mymatrix{c}{#1}} $\n",
    "$ \\newcommand{\\myrvector}[1]{\\mymatrix{r}{#1}} $\n",
    "$ \\newcommand{\\mypar}[1]{\\left( #1 \\right)} $\n",
    "$ \\newcommand{\\mybigpar}[1]{ \\Big( #1 \\Big)} $\n",
    "$ \\newcommand{\\sqrttwo}{\\frac{1}{\\sqrt{2}}} $\n",
    "$ \\newcommand{\\dsqrttwo}{\\dfrac{1}{\\sqrt{2}}} $\n",
    "$ \\newcommand{\\onehalf}{\\frac{1}{2}} $\n",
    "$ \\newcommand{\\donehalf}{\\dfrac{1}{2}} $\n",
    "$ \\newcommand{\\hadamard}{ \\mymatrix{rr}{ \\sqrttwo & \\sqrttwo \\\\ \\sqrttwo & -\\sqrttwo }} $\n",
    "$ \\newcommand{\\vzero}{\\myvector{1\\\\0}} $\n",
    "$ \\newcommand{\\vone}{\\myvector{0\\\\1}} $\n",
    "$ \\newcommand{\\stateplus}{\\myvector{ \\sqrttwo \\\\  \\sqrttwo } } $\n",
    "$ \\newcommand{\\stateminus}{ \\myrvector{ \\sqrttwo \\\\ -\\sqrttwo } } $\n",
    "$ \\newcommand{\\myarray}[2]{ \\begin{array}{#1}#2\\end{array}} $\n",
    "$ \\newcommand{\\X}{ \\mymatrix{cc}{0 & 1 \\\\ 1 & 0}  } $\n",
    "$ \\newcommand{\\Z}{ \\mymatrix{rr}{1 & 0 \\\\ 0 & -1}  } $\n",
    "$ \\newcommand{\\Htwo}{ \\mymatrix{rrrr}{ \\frac{1}{2} & \\frac{1}{2} & \\frac{1}{2} & \\frac{1}{2} \\\\ \\frac{1}{2} & -\\frac{1}{2} & \\frac{1}{2} & -\\frac{1}{2} \\\\ \\frac{1}{2} & \\frac{1}{2} & -\\frac{1}{2} & -\\frac{1}{2} \\\\ \\frac{1}{2} & -\\frac{1}{2} & -\\frac{1}{2} & \\frac{1}{2} } } $\n",
    "$ \\newcommand{\\CNOT}{ \\mymatrix{cccc}{1 & 0 & 0 & 0 \\\\ 0 & 1 & 0 & 0 \\\\ 0 & 0 & 0 & 1 \\\\ 0 & 0 & 1 & 0} } $\n",
    "$ \\newcommand{\\norm}[1]{ \\left\\lVert #1 \\right\\rVert } $\n",
    "$ \\newcommand{\\pstate}[1]{ \\lceil \\mspace{-1mu} #1 \\mspace{-1.5mu} \\rfloor } $\n",
    "$ \\newcommand{\\qgate}[1]{ \\mathop{\\textit{#1} } }$"
   ]
  },
  {
   "cell_type": "markdown",
   "id": "f942233a",
   "metadata": {},
   "source": [
    "This is a brief tutorial to implement simple circuits with a pre-built simulator of Fibonacci braiding circuits.\n",
    "\n",
    "Quantum simulators are very important to understand the behavior of real quantum computers and test quantum algorithms. Since the topological quantum computers do not exist yet, it is convenient to work on a simulator to better understand how quantum computation would look like on a topological quantum computer. For this purpose, CQTech team have designed an open-source simulator in Python to help students and quantum computing enthusiasts to have the opportunity to program a topological quantum simulator.\n",
    "\n",
    "The main challenging difference between the topological quantum computers and the other quantum computing platforms is the fact that the former is based on the fusion space of anyons which has different structure than the qubits. Therefore, this tutorial will help you practice how the fusion states of anyons is non-trivially split to computational states and non-computational states.\n",
    "\n",
    "As all quantum simulators, this topological quantum simulator is limited in the number of anyons or qubits that it can simulate in a reasonable time since the fusion space of anyons grows exponentially and the computational work to build braiding matrices, store them and multiply them will be more expansive in case of large number of anyons. Therefore, the topological quantum computation simulator can be work ably up to 12 anyons. For practical purposes, it is better to work with 3 and 4 anyons per qubit as you can deduce from the previous notebooks.\n",
    "\n",
    "*We highly encourage you to implement your quantum ideas on the topological quantum simulator and provide your feedback. You are also welcome to contribute to the simulator on [GitHub](https://github.com/Constantine-Quantum-Tech/tqsim).*\n"
   ]
  },
  {
   "cell_type": "markdown",
   "id": "2a44789a",
   "metadata": {},
   "source": [
    "## Content\n",
    "\n",
    "1. [Single qubit topological circuit](#100)\n",
    "1. [Multi-qubit topological circuit](#200)"
   ]
  },
  {
   "cell_type": "markdown",
   "id": "622220c2",
   "metadata": {},
   "source": [
    "<hr>\n",
    "<a id=\"100\"></a>\n",
    "\n",
    "## 1. Single Qubit Topoligical Circuit"
   ]
  },
  {
   "cell_type": "code",
   "execution_count": 3,
   "id": "f0ec44b3",
   "metadata": {},
   "outputs": [],
   "source": [
    "from tqsim import AnyonicCircuit\n",
    "import matplotlib.pyplot as plt\n",
    "from IPython.display import Latex\n",
    "from tqsim import cplot"
   ]
  },
  {
   "cell_type": "code",
   "execution_count": null,
   "id": "c34eb035",
   "metadata": {},
   "outputs": [],
   "source": [
    "# Intitialize your braiding circuit\n",
    "circuit3 = AnyonicCircuit(nb_qudits=1, nb_anyons_per_qudit=3)\n",
    "circuit4 = AnyonicCircuit(nb_qudits=1, nb_anyons_per_qudit=4)"
   ]
  },
  {
   "cell_type": "markdown",
   "id": "9f8c0547",
   "metadata": {},
   "source": [
    "<div class=\"alert alert-block alert-info\"> <b>Note: </b> The qudit is a quantum state of $d$ complex components eg. $\\left(\\begin{array}{c}1\\\\ 0\\\\ 0\\end{array}\\right)$. The qubit is a quantum state of $2$ complex components eg. $\\left(\\begin{array}{c}1\\\\ 0\\end{array}\\right)$.</div>"
   ]
  },
  {
   "cell_type": "markdown",
   "id": "4b25725b",
   "metadata": {},
   "source": [
    "As shown in code, the _AnyonicCircuit_ has two parameters:\n",
    "1. _nb\\_qudits_ : which is the number of qudits in the circuit.\n",
    "2. _nb\\_anyons\\_per\\_qudit_ : which is the number of anyons you intend to use for each qudit eg. typically 3 or 4."
   ]
  },
  {
   "cell_type": "code",
   "execution_count": null,
   "id": "e6cb2082",
   "metadata": {},
   "outputs": [],
   "source": [
    "# Apply clockwise braiding operations\n",
    "circuit3.braid(1, 2)\n",
    "circuit3.braid(2, 3)\n",
    "\n",
    "circuit4.braid(2, 3)\n",
    "circuit4.braid(3, 4)"
   ]
  },
  {
   "cell_type": "code",
   "execution_count": null,
   "id": "d1cf231f",
   "metadata": {},
   "outputs": [],
   "source": [
    "# Drawing the braiding circuit\n",
    "circuit3.draw()"
   ]
  },
  {
   "cell_type": "code",
   "execution_count": null,
   "id": "51965bd7",
   "metadata": {},
   "outputs": [],
   "source": [
    "# Drawing the braiding circuit\n",
    "circuit4.draw()"
   ]
  },
  {
   "cell_type": "code",
   "execution_count": null,
   "id": "ec43a3d6",
   "metadata": {},
   "outputs": [],
   "source": [
    "### Apply counter-clockwise braiding operations\n",
    "circuit3.braid(2, 1)\n",
    "circuit3.braid(3, 2)\n",
    "\n",
    "circuit4.braid(3, 2)\n",
    "circuit4.braid(4, 3)"
   ]
  },
  {
   "cell_type": "markdown",
   "id": "8090f222",
   "metadata": {},
   "source": [
    "Once you flip the indices of braided anyons, you get the inverse braiding operation."
   ]
  },
  {
   "cell_type": "code",
   "execution_count": null,
   "id": "9c36eee7",
   "metadata": {},
   "outputs": [],
   "source": [
    "# Drawing the braiding circuit\n",
    "circuit3.draw()"
   ]
  },
  {
   "cell_type": "code",
   "execution_count": null,
   "id": "0d40a26c",
   "metadata": {},
   "outputs": [],
   "source": [
    "# Drawing the braiding circuit\n",
    "circuit4.draw()"
   ]
  },
  {
   "cell_type": "code",
   "execution_count": null,
   "id": "3878c846",
   "metadata": {},
   "outputs": [],
   "source": [
    "# Highlight given strands with specific colors\n",
    "circuit3.drawer.anyons[1].color = \"red\"\n",
    "circuit3.draw()"
   ]
  },
  {
   "cell_type": "code",
   "execution_count": null,
   "id": "e5b27109",
   "metadata": {},
   "outputs": [],
   "source": [
    "# Labeling the anyons\n",
    "circuit.drawer.anyons[1].label = 1  # Labeling the 1st anyon using an int\n",
    "circuit.drawer.anyons[2].label = '2'  # Labeling the 2nd anyon using a number as a string\n",
    "circuit.drawer.anyons[3].label = 'three'  # Labeling the 3rd anyon using text\n",
    "circuit.draw()"
   ]
  },
  {
   "cell_type": "code",
   "execution_count": null,
   "id": "b991a787",
   "metadata": {},
   "outputs": [],
   "source": [
    "# Print the braiding sequences\n",
    "print('3 anyons circuit:', circuit3.history())\n",
    "print('4 anyons circuit:', circuit4.history())"
   ]
  },
  {
   "cell_type": "code",
   "execution_count": null,
   "id": "0d3294e8",
   "metadata": {},
   "outputs": [],
   "source": [
    "# Print the braiding sequences\n",
    "print('3 anyons circuit:')\n",
    "Latex(circuit3.history(\"latex\"))"
   ]
  },
  {
   "cell_type": "code",
   "execution_count": null,
   "id": "e9bca7f2",
   "metadata": {},
   "outputs": [],
   "source": [
    "# Print the braiding sequences\n",
    "print('4 anyons circuit:')\n",
    "Latex(circuit4.history(\"latex\"))"
   ]
  },
  {
   "cell_type": "code",
   "execution_count": null,
   "id": "db0d78d4",
   "metadata": {
    "scrolled": true
   },
   "outputs": [],
   "source": [
    "# Get the unitary of the braiding circuit\n",
    "print(circuit3.unitary())"
   ]
  },
  {
   "cell_type": "code",
   "execution_count": null,
   "id": "0929f6ef",
   "metadata": {},
   "outputs": [],
   "source": [
    "cplot(circuit3.unitary())"
   ]
  },
  {
   "cell_type": "code",
   "execution_count": null,
   "id": "50b40375",
   "metadata": {},
   "outputs": [],
   "source": [
    "# Get the basis\n",
    "circuit3.basis"
   ]
  },
  {
   "cell_type": "markdown",
   "id": "b10e6f29",
   "metadata": {},
   "source": [
    "The basis involves the complete set of fusion states including the non-computational states. The general form of the fusion basis is given by the following fusion diagram."
   ]
  },
  {
   "cell_type": "markdown",
   "id": "0dce53f0",
   "metadata": {},
   "source": [
    "\n",
    "\n",
    "3 anyons fusion state :\n",
    "\n",
    "        1 1 1 \n",
    "        \\/  / \n",
    "        i\\ / \n",
    "          \\    \n",
    "          j\\   \n",
    "\n",
    "            \n",
    "This state is represented by Python dict :\n",
    "\n",
    "        {'qudits': [[i, j]] 'roots': []}\n"
   ]
  },
  {
   "cell_type": "code",
   "execution_count": null,
   "id": "339c7d9c",
   "metadata": {},
   "outputs": [],
   "source": [
    "# Get the unitary of the braiding circuit\n",
    "print(circuit4.unitary())"
   ]
  },
  {
   "cell_type": "code",
   "execution_count": null,
   "id": "517fcb63",
   "metadata": {},
   "outputs": [],
   "source": [
    "cplot(circuit4.unitary())"
   ]
  },
  {
   "cell_type": "code",
   "execution_count": null,
   "id": "c63eabfc",
   "metadata": {},
   "outputs": [],
   "source": [
    "# Get the basis\n",
    "circuit4.basis"
   ]
  },
  {
   "cell_type": "markdown",
   "id": "660e24ae",
   "metadata": {},
   "source": [
    "\n",
    "4 anyons fusion state :\n",
    "\n",
    "        1 1 1 1\n",
    "        \\/  / /\n",
    "        i\\ / /\n",
    "         j\\ /   \n",
    "          k\\   \n",
    "\n",
    "            \n",
    "This state is represented by Python dict :\n",
    "\n",
    "        {'qudits': [[i, j, k]] 'roots': []}\n",
    "\n"
   ]
  },
  {
   "cell_type": "code",
   "execution_count": null,
   "id": "495bf30c",
   "metadata": {},
   "outputs": [],
   "source": [
    "# Measure the circuit by fusing all \n",
    "circuit3.measure()\n",
    "circuit4.measure()"
   ]
  },
  {
   "cell_type": "code",
   "execution_count": null,
   "id": "7969454d",
   "metadata": {
    "scrolled": true
   },
   "outputs": [],
   "source": [
    "circuit3.draw()"
   ]
  },
  {
   "cell_type": "code",
   "execution_count": null,
   "id": "6a5af55c",
   "metadata": {},
   "outputs": [],
   "source": [
    "circuit4.draw()"
   ]
  },
  {
   "cell_type": "code",
   "execution_count": null,
   "id": "48b75b99",
   "metadata": {},
   "outputs": [],
   "source": [
    "# Get the result of measurement in given number of shots for given input state\n",
    "result3 = circuit3.run(shots=1000)"
   ]
  },
  {
   "cell_type": "code",
   "execution_count": null,
   "id": "e57e1d3a",
   "metadata": {},
   "outputs": [],
   "source": [
    "print(result3)"
   ]
  },
  {
   "cell_type": "code",
   "execution_count": null,
   "id": "38f3f2d6",
   "metadata": {},
   "outputs": [],
   "source": [
    "# Show the histogram of measurement results\n",
    "import matplotlib.pyplot as plt\n",
    "plt.hist(result3['memory'], [0, 1, 2, 3], align='left', rwidth=0.25)\n",
    "plt.grid()\n",
    "plt.show()"
   ]
  },
  {
   "cell_type": "code",
   "execution_count": null,
   "id": "061e3634",
   "metadata": {},
   "outputs": [],
   "source": [
    "# Get the result of measurement in given number of shots for given input state\n",
    "result4 = circuit4.run(shots=1000)"
   ]
  },
  {
   "cell_type": "code",
   "execution_count": null,
   "id": "e83bb3a3",
   "metadata": {},
   "outputs": [],
   "source": [
    "print(result4)"
   ]
  },
  {
   "cell_type": "code",
   "execution_count": null,
   "id": "5575727f",
   "metadata": {},
   "outputs": [],
   "source": [
    "# Show the histogram of measurement results\n",
    "import matplotlib.pyplot as plt\n",
    "plt.hist(result4['memory'], [0, 1, 2, 3, 4 , 5, 6], align='left', rwidth=0.5)\n",
    "plt.grid()\n",
    "plt.show()"
   ]
  },
  {
   "cell_type": "markdown",
   "id": "4bcd5d5e",
   "metadata": {},
   "source": [
    "<hr>\n",
    "<a id=\"200\"></a>\n",
    "\n",
    "## 2. Multi-Qubit Topological Circuit"
   ]
  },
  {
   "cell_type": "markdown",
   "id": "a35831b4",
   "metadata": {},
   "source": [
    "    Example: nb_qudits = 3, nb_anyons_per_qudit = 3\n",
    "    \n",
    "        1 1 1 1 1 1 1 1 1\n",
    "        \\/  / \\/  / \\/  /\n",
    "        i\\ /  k\\ /  e\\ /\n",
    "          \\     /     /\n",
    "          j\\  l/     /f\n",
    "            \\ /     / \n",
    "            m\\     /\n",
    "              \\   /\n",
    "               \\ /\n",
    "               t|\n",
    "  \n",
    "    This state is represented by the following Python dict:\n",
    "    \n",
    "        {'qudits': [[i, j], [k, l], [e, f]], 'roots': [m, t]}"
   ]
  },
  {
   "cell_type": "code",
   "execution_count": null,
   "id": "0a5ef2f9",
   "metadata": {},
   "outputs": [],
   "source": [
    "circuit = AnyonicCircuit(nb_qudits=2, nb_anyons_per_qudit=4)"
   ]
  },
  {
   "cell_type": "code",
   "execution_count": null,
   "id": "7095c6a7",
   "metadata": {},
   "outputs": [],
   "source": [
    "circuit.braid(1, 2)\n",
    "circuit.braid(2, 3)\n",
    "circuit.braid(3, 4)\n",
    "circuit.braid(4, 5)\n",
    "circuit.braid(5, 6)"
   ]
  },
  {
   "cell_type": "code",
   "execution_count": null,
   "id": "63686fc9",
   "metadata": {},
   "outputs": [],
   "source": [
    "circuit.draw()"
   ]
  },
  {
   "cell_type": "code",
   "execution_count": null,
   "id": "173bac2e",
   "metadata": {},
   "outputs": [],
   "source": [
    "# Measure the fusion circuit\n",
    "circuit.measure()\n",
    "circuit.draw()"
   ]
  },
  {
   "cell_type": "code",
   "execution_count": null,
   "id": "a31137af",
   "metadata": {},
   "outputs": [],
   "source": [
    "# The dimension of the basis\n",
    "circuit.dim"
   ]
  },
  {
   "cell_type": "code",
   "execution_count": null,
   "id": "b4e26d89",
   "metadata": {},
   "outputs": [],
   "source": [
    "# The unitary of the circuit\n",
    "circuit.unitary()"
   ]
  },
  {
   "cell_type": "code",
   "execution_count": null,
   "id": "fa7aa3f2",
   "metadata": {},
   "outputs": [],
   "source": [
    "cplot(circuit.unitary())"
   ]
  },
  {
   "cell_type": "code",
   "execution_count": null,
   "id": "7fd5a954",
   "metadata": {},
   "outputs": [],
   "source": [
    "import numpy as np\n",
    "# Result of measurement\n",
    "d = circuit.dim\n",
    "result = circuit.run(shots=1000)"
   ]
  },
  {
   "cell_type": "code",
   "execution_count": null,
   "id": "fc355129",
   "metadata": {},
   "outputs": [],
   "source": [
    "print(result)"
   ]
  },
  {
   "cell_type": "code",
   "execution_count": null,
   "id": "b13fd7be",
   "metadata": {},
   "outputs": [],
   "source": [
    "# Show the histogram of measurement results\n",
    "import matplotlib.pyplot as plt\n",
    "plt.hist(result['memory'], [ii for ii in range(d+1)], align='left', rwidth=0.5)\n",
    "plt.grid()\n",
    "plt.show()"
   ]
  },
  {
   "cell_type": "markdown",
   "id": "516183f7",
   "metadata": {},
   "source": [
    " "
   ]
  }
 ],
 "metadata": {
  "kernelspec": {
   "display_name": "Python 3 (ipykernel)",
   "language": "python",
   "name": "python3"
  },
  "language_info": {
   "codemirror_mode": {
    "name": "ipython",
    "version": 3
   },
   "file_extension": ".py",
   "mimetype": "text/x-python",
   "name": "python",
   "nbconvert_exporter": "python",
   "pygments_lexer": "ipython3",
   "version": "3.10.6"
  }
 },
 "nbformat": 4,
 "nbformat_minor": 5
}
