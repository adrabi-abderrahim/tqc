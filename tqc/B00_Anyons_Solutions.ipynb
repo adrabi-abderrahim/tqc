{
 "cells": [
  {
   "cell_type": "markdown",
   "id": "0751000c",
   "metadata": {},
   "source": [
    "# <font color=\"blue\"> Solutions for </font> Anyons"
   ]
  },
  {
   "cell_type": "markdown",
   "id": "3667ae03",
   "metadata": {},
   "source": [
    "<table width=\"100%\"><tr><td style=\"color:#bbbbbb;background-color:#ffffff;font-size:11px;font-style:italic;text-align:right;\">LaTeX macros. Do not delete!</td></tr></table>\n",
    "$ \\newcommand{\\bra}[1]{\\langle #1|} $\n",
    "$ \\newcommand{\\ket}[1]{|#1\\rangle} $\n",
    "$ \\newcommand{\\braket}[2]{\\langle #1|#2\\rangle} $\n",
    "$ \\newcommand{\\mymatrix}[2]{\\left( \\begin{array}{#1} #2\\end{array} \\right)} $"
   ]
  },
  {
   "cell_type": "markdown",
   "id": "01203551",
   "metadata": {},
   "source": [
    "<a id=\"task1\"></a>\n",
    "#### Task 1\n",
    "\n",
    "Using the definition of topological equivalence given above, classify the characters **{0, 1, 2, 5, 7, 8, D, L, M, N, B}** according to their topology, such that each character in a given class can be continuously deformed into another character in the same class."
   ]
  },
  {
   "cell_type": "markdown",
   "id": "da398159",
   "metadata": {},
   "source": [
    "#### Solution\n",
    "1. **{1, 2, 3, 5, 7, L, M, N}**<br>\n",
    "1. **{0, D}**<br>\n",
    "1. **{8, B}**\n",
    "\n",
    "<hr>"
   ]
  },
  {
   "cell_type": "markdown",
   "id": "d1d736c1",
   "metadata": {},
   "source": [
    "<a id=\"task2\"></a>\n",
    "#### Task 2\n",
    "Show how to prepare the state $\\ket{0}$ using the fusion rules, and knowing that we can create anyon pairs from the vacuum."
   ]
  },
  {
   "cell_type": "markdown",
   "id": "483653c3",
   "metadata": {},
   "source": [
    "#### Solution\n",
    "1. Create two pairs of anyons from the vacuum, $0 \\rightarrow (1,1)$, $0 \\rightarrow (1,1)$.\n",
    "1. Discard one of the anyons from the second pair: $(1, 1)$, $(1)$.\n",
    "\n",
    "The first pair will fuse into the vacuum $(0)$ (charge conservation), and the vacuum will fuse with the third anyon $(1)$ into an anyon. (2nd and 3rd fusion rules), giving us the fusion sequence:\n",
    "$$(1 \\times 1) \\times 1 = 0 \\times 1 = 1,$$ which is the state $\\ket{0}$, as described in the figure above.\n",
    "\n",
    "<hr>"
   ]
  },
  {
   "cell_type": "markdown",
   "id": "5cd36e9f",
   "metadata": {},
   "source": [
    "<a id=\"task3\"></a>\n",
    "#### Task 3\n",
    "\n",
    " Express the states $\\ket{0}$ and $\\ket{1}$, as described in **Fig. 8**, in terms of right-to-left fusions, using the $F$ matrix."
   ]
  },
  {
   "cell_type": "markdown",
   "id": "59e6bd22",
   "metadata": {},
   "source": [
    "#### Solution\n",
    "\n",
    "**The state $\\ket{0}$:**<br>\n",
    "For this basis state, $i = 0$. So the equation in **Fig. 10** becomes\n",
    "\n",
    "$$\\ket{0} = \\Sigma_j F_{0j} \\ket{j} $$\n",
    "\n",
    "where $\\ket{0}$ and $\\ket{j}$ are respectively the diagrams on the lefthand side and the righthand side of the equality in **Fig. 10**. Expanding the sum gives\n",
    "\n",
    "\\begin{align}\n",
    "\\ket{0} &= F_{00} \\ket{j=0} + F_{01} \\ket{j=1},\\\\\n",
    "\\ket{0} &= \\frac{1}{\\Phi} \\ket{j=0} + \\frac{1}{\\sqrt{\\Phi}} \\ket{j=1}.\n",
    "\\end{align}\n",
    "\n",
    "**The state $\\ket{1}$:**<br>\n",
    "Doing the same as previously, we get\n",
    "\n",
    "$$\\ket{1} = \\frac{1}{\\sqrt{\\Phi}} \\ket{j=0} - \\frac{1}{\\Phi} \\ket{j=1}. $$\n",
    "\n",
    "<hr>"
   ]
  },
  {
   "cell_type": "markdown",
   "id": "8c9c5123",
   "metadata": {},
   "source": [
    "<a id=\"task4\"></a>\n",
    "#### Task 4\n",
    "\n",
    "Show that the states $\\ket{j}$, represented by the righthand side diagram in **Fig. 10**, are orthogonal to each other. That is, $\\braket{j}{j'} = 0$ if $j' \\neq j$. We will consider $\\braket{j}{j} = 1$."
   ]
  },
  {
   "cell_type": "markdown",
   "id": "793754cf",
   "metadata": {},
   "source": [
    " #### Solution\n",
    "\n",
    "We already know that\n",
    "\n",
    "$$\\braket{0}{0} = 1,$$\n",
    "$$\\braket{1}{1} = 1,$$\n",
    "$$\\braket{0}{1} = 0.$$\n",
    "\n",
    "Using the expressions for $\\ket{0}$ and $\\ket{1}$ from **Exercise 3**,\n",
    "\n",
    "\\begin{align}\n",
    "\\braket{0}{1} = (\\frac{1}{\\Phi} \\bra{j=0} + \\frac{1}{\\sqrt{\\Phi}} \\bra{j=1})(\\frac{1}{\\sqrt{\\Phi}} \\ket{j=0} - \\frac{1}{\\Phi} \\ket{j=1}) &= 0,\\\\\n",
    "\\frac{1}{\\sqrt{\\Phi}}\\braket{j=0}{j=0} - \\frac{1}{\\Phi}\\braket{j=0}{j=1} + \\braket{j=1}{j=0} - \\frac{1}{\\sqrt{\\Phi}}\\braket{j=1}{j=1} &= 0.\n",
    "\\end{align}\n",
    "\n",
    "Using $\\braket{j=0}{j=0} = \\braket{j=1}{j=1} = 1$, we get\n",
    "\n",
    "\\begin{align}\n",
    "- \\frac{1}{\\Phi}\\braket{j=0}{j=1} + \\braket{j=1}{j=0}&= 0,\\\\\n",
    "- \\frac{1}{\\Phi}\\braket{j=0}{j=1} + \\braket{j=0}{j=1}^*&= 0.\n",
    "\\end{align}\n",
    "\n",
    "Solving this last equation for the real and imaginary parts, we get\n",
    "\n",
    "\\begin{align}\n",
    "real(\\braket{j=0}{j=1}) = real(\\braket{j=0}{j=1}^*)&=0, \\\\\n",
    "im(\\braket{j=0}{j=1}) = -im(\\braket{j=0}{j=1}^*)&= 0.\n",
    "\\end{align}\n",
    "\n",
    "Therefor,\n",
    "\n",
    "$$\\braket{j=1}{j=0} = \\braket{j=0}{j=1}= 0.$$"
   ]
  },
  {
   "cell_type": "markdown",
   "id": "eeecdfee",
   "metadata": {},
   "source": [
    "<hr>\n",
    "\n",
    "<a id=\"bibliography\"></a>\n",
    "## References\n",
    " * Alberto Lerda, *Anyons : quantum mechanics of particles with fractional statistics*, Springer-Verlag, (1992).\n",
    " * Jiannis K. Pachos, *Introduction to topological quantum computation*, Cambridge University Press, (2012).\n",
    " * M. T. Rouabah, N. E. Belaloui, and A. Tounsi, *Compiling single-qubit braiding gate for Fibonacci anyons topological quantum computation*,  Journal of Physics: Conference Series, **1766**, 012029 (2021)."
   ]
  },
  {
   "cell_type": "markdown",
   "id": "ebc8bd21",
   "metadata": {},
   "source": [
    " \n",
    " "
   ]
  }
 ],
 "metadata": {
  "kernelspec": {
   "display_name": "Python 3 (ipykernel)",
   "language": "python",
   "name": "python3"
  },
  "language_info": {
   "codemirror_mode": {
    "name": "ipython",
    "version": 3
   },
   "file_extension": ".py",
   "mimetype": "text/x-python",
   "name": "python",
   "nbconvert_exporter": "python",
   "pygments_lexer": "ipython3",
   "version": "3.10.4"
  }
 },
 "nbformat": 4,
 "nbformat_minor": 5
}
